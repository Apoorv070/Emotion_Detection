{
  "nbformat": 4,
  "nbformat_minor": 0,
  "metadata": {
    "colab": {
      "name": "facial_expression_recognition.ipynb",
      "provenance": [],
      "collapsed_sections": [],
      "include_colab_link": true
    },
    "kernelspec": {
      "name": "python3",
      "display_name": "Python 3"
    },
    "accelerator": "GPU"
  },
  "cells": [
    {
      "cell_type": "markdown",
      "metadata": {
        "id": "view-in-github",
        "colab_type": "text"
      },
      "source": [
        "<a href=\"https://colab.research.google.com/github/Apoorv070/Emotion_Detection/blob/master/facial_expression_recognition.ipynb\" target=\"_parent\"><img src=\"https://colab.research.google.com/assets/colab-badge.svg\" alt=\"Open In Colab\"/></a>"
      ]
    },
    {
      "cell_type": "code",
      "metadata": {
        "id": "FYfZhVK0fZ2V",
        "colab": {
          "base_uri": "https://localhost:8080/"
        },
        "outputId": "fad77de8-795e-4bf4-a667-aa2b6cbb9a6b"
      },
      "source": [
        "!git clone https://github.com/muxspace/facial_expressions.git"
      ],
      "execution_count": 1,
      "outputs": [
        {
          "output_type": "stream",
          "text": [
            "Cloning into 'facial_expressions'...\n",
            "remote: Enumerating objects: 14214, done.\u001b[K\n",
            "remote: Total 14214 (delta 0), reused 0 (delta 0), pack-reused 14214\u001b[K\n",
            "Receiving objects: 100% (14214/14214), 239.65 MiB | 32.62 MiB/s, done.\n",
            "Resolving deltas: 100% (223/223), done.\n",
            "Checking out files: 100% (13996/13996), done.\n"
          ],
          "name": "stdout"
        }
      ]
    },
    {
      "cell_type": "code",
      "metadata": {
        "id": "s9g3ri-UfmET"
      },
      "source": [
        "import csv\n",
        "data = {}\n",
        "with open('/content/facial_expressions/data/legend.csv') as f:\n",
        "  reader = csv.reader(f)\n",
        "  next(reader)\n",
        "  for row in reader:\n",
        "    key = row[2].lower()\n",
        "    if key in data:\n",
        "      data[key].append(row[1])\n",
        "    else:\n",
        "      data[key] = [row[1]]"
      ],
      "execution_count": 2,
      "outputs": []
    },
    {
      "cell_type": "code",
      "metadata": {
        "id": "VVzU_a67jrGX",
        "colab": {
          "base_uri": "https://localhost:8080/"
        },
        "outputId": "4de99dd7-8146-475c-a3dd-71bc50c3f96e"
      },
      "source": [
        "emotion_list = list(data.keys())\n",
        "emotion_list"
      ],
      "execution_count": 3,
      "outputs": [
        {
          "output_type": "execute_result",
          "data": {
            "text/plain": [
              "['anger',\n",
              " 'surprise',\n",
              " 'disgust',\n",
              " 'fear',\n",
              " 'neutral',\n",
              " 'happiness',\n",
              " 'sadness',\n",
              " 'contempt']"
            ]
          },
          "metadata": {
            "tags": []
          },
          "execution_count": 3
        }
      ]
    },
    {
      "cell_type": "code",
      "metadata": {
        "id": "vHbst716k2KO"
      },
      "source": [
        "import os\n",
        "\n",
        "os.mkdir('master_data')\n",
        "os.mkdir('master_data/training')\n",
        "os.mkdir('master_data/testing')"
      ],
      "execution_count": 4,
      "outputs": []
    },
    {
      "cell_type": "code",
      "metadata": {
        "id": "yVQ7jkssk9cd"
      },
      "source": [
        "for emotion in emotion_list:\n",
        "  os.mkdir(os.path.join('master_data/training/', emotion))\n",
        "  os.mkdir(os.path.join('master_data/testing/', emotion))"
      ],
      "execution_count": 5,
      "outputs": []
    },
    {
      "cell_type": "code",
      "metadata": {
        "id": "5NAIPMkLlIj1"
      },
      "source": [
        "from shutil import copyfile\n",
        "split_size = 0.8\n",
        "\n",
        "for emotion, images in data.items():\n",
        "  train_size = int(split_size*len(images))\n",
        "  train_images = images[:train_size]\n",
        "  test_images = images[train_size:]\n",
        "  for image in train_images:\n",
        "    source = os.path.join('/content/facial_expressions/images', image)\n",
        "    dest = os.path.join('/content/master_data/training', emotion, image)\n",
        "    copyfile(source, dest)\n",
        "  for image in test_images:\n",
        "    source = os.path.join('/content/facial_expressions/images', image)\n",
        "    dest = os.path.join('/content/master_data/testing', emotion, image)\n",
        "    copyfile(source, dest)"
      ],
      "execution_count": 6,
      "outputs": []
    },
    {
      "cell_type": "code",
      "metadata": {
        "id": "9nUCakLgmSNp"
      },
      "source": [
        "import tensorflow as tf\n",
        "from tensorflow.keras.preprocessing.image import ImageDataGenerator\n",
        "from tensorflow.keras.optimizers import Adam\n",
        "from tensorflow.keras.callbacks import EarlyStopping\n",
        "from tensorflow.keras.layers import Conv2D, MaxPooling2D, Dense, Flatten"
      ],
      "execution_count": 7,
      "outputs": []
    },
    {
      "cell_type": "code",
      "metadata": {
        "id": "dSYxzkfjnduI",
        "colab": {
          "base_uri": "https://localhost:8080/"
        },
        "outputId": "00282c2c-35ef-482d-9c55-2a348c34b65c"
      },
      "source": [
        "model = tf.keras.models.Sequential([\n",
        "      Conv2D(16, (3,3), activation='relu', input_shape = (100, 100, 3)),\n",
        "      MaxPooling2D(2, 2),\n",
        "      Conv2D(32, (3,3), activation='relu'),\n",
        "      MaxPooling2D(2, 2),\n",
        "      Conv2D(64, (3,3), activation='relu'),\n",
        "      MaxPooling2D(2, 2),\n",
        "      Flatten(),\n",
        "      Dense(1024, activation='relu'),\n",
        "      Dense(8, activation='softmax')\n",
        "])\n",
        "model.compile(optimizer = Adam(lr = 0.01), loss = 'categorical_crossentropy', metrics = ['acc'])\n",
        "model.summary()"
      ],
      "execution_count": 8,
      "outputs": [
        {
          "output_type": "stream",
          "text": [
            "Model: \"sequential\"\n",
            "_________________________________________________________________\n",
            "Layer (type)                 Output Shape              Param #   \n",
            "=================================================================\n",
            "conv2d (Conv2D)              (None, 98, 98, 16)        448       \n",
            "_________________________________________________________________\n",
            "max_pooling2d (MaxPooling2D) (None, 49, 49, 16)        0         \n",
            "_________________________________________________________________\n",
            "conv2d_1 (Conv2D)            (None, 47, 47, 32)        4640      \n",
            "_________________________________________________________________\n",
            "max_pooling2d_1 (MaxPooling2 (None, 23, 23, 32)        0         \n",
            "_________________________________________________________________\n",
            "conv2d_2 (Conv2D)            (None, 21, 21, 64)        18496     \n",
            "_________________________________________________________________\n",
            "max_pooling2d_2 (MaxPooling2 (None, 10, 10, 64)        0         \n",
            "_________________________________________________________________\n",
            "flatten (Flatten)            (None, 6400)              0         \n",
            "_________________________________________________________________\n",
            "dense (Dense)                (None, 1024)              6554624   \n",
            "_________________________________________________________________\n",
            "dense_1 (Dense)              (None, 8)                 8200      \n",
            "=================================================================\n",
            "Total params: 6,586,408\n",
            "Trainable params: 6,586,408\n",
            "Non-trainable params: 0\n",
            "_________________________________________________________________\n"
          ],
          "name": "stdout"
        },
        {
          "output_type": "stream",
          "text": [
            "/usr/local/lib/python3.7/dist-packages/tensorflow/python/keras/optimizer_v2/optimizer_v2.py:375: UserWarning: The `lr` argument is deprecated, use `learning_rate` instead.\n",
            "  \"The `lr` argument is deprecated, use `learning_rate` instead.\")\n"
          ],
          "name": "stderr"
        }
      ]
    },
    {
      "cell_type": "code",
      "metadata": {
        "id": "xo-O0elhqXWg",
        "colab": {
          "base_uri": "https://localhost:8080/"
        },
        "outputId": "d0b92b10-fdfb-48e0-ea4d-d9730bab37b1"
      },
      "source": [
        "train_dir = '/content/master_data/training'\n",
        "test_dir = '/content/master_data/testing'\n",
        "\n",
        "train_datagen = ImageDataGenerator(rescale = 1.0/255)\n",
        "train_generator = train_datagen.flow_from_directory(\n",
        "                                                    train_dir,\n",
        "                                                    target_size = (100, 100),\n",
        "                                                    class_mode = 'categorical',\n",
        "                                                    batch_size = 128\n",
        "                                                  )\n",
        "\n",
        "test_datagen = ImageDataGenerator(rescale = 1.0/255)\n",
        "test_generator = test_datagen.flow_from_directory(\n",
        "                                                    test_dir,\n",
        "                                                    target_size = (100, 100),\n",
        "                                                    class_mode = 'categorical',\n",
        "                                                    batch_size = 128\n",
        "                                                  )"
      ],
      "execution_count": 9,
      "outputs": [
        {
          "output_type": "stream",
          "text": [
            "Found 10941 images belonging to 8 classes.\n",
            "Found 2742 images belonging to 8 classes.\n"
          ],
          "name": "stdout"
        }
      ]
    },
    {
      "cell_type": "code",
      "metadata": {
        "id": "YCI0xQtlsbYc"
      },
      "source": [
        "es = EarlyStopping(monitor='val_acc', patience = 2, min_delta=0.01)"
      ],
      "execution_count": 10,
      "outputs": []
    },
    {
      "cell_type": "code",
      "metadata": {
        "id": "jMBsgMIqs_GP",
        "colab": {
          "base_uri": "https://localhost:8080/"
        },
        "outputId": "5d5951dc-1c4b-4c32-a607-87a7aefcaecd"
      },
      "source": [
        "history = model.fit_generator(train_generator,\n",
        "                    epochs = 10,\n",
        "                    verbose = 1,\n",
        "                    validation_data = test_generator,\n",
        "                    callbacks = [es])"
      ],
      "execution_count": 14,
      "outputs": [
        {
          "output_type": "stream",
          "text": [
            "/usr/local/lib/python3.7/dist-packages/tensorflow/python/keras/engine/training.py:1940: UserWarning: `Model.fit_generator` is deprecated and will be removed in a future version. Please use `Model.fit`, which supports generators.\n",
            "  warnings.warn('`Model.fit_generator` is deprecated and '\n"
          ],
          "name": "stderr"
        },
        {
          "output_type": "stream",
          "text": [
            "Epoch 1/10\n",
            "86/86 [==============================] - 18s 213ms/step - loss: 0.6209 - acc: 0.7825 - val_loss: 1.2979 - val_acc: 0.6123\n",
            "Epoch 2/10\n",
            "86/86 [==============================] - 18s 210ms/step - loss: 0.6191 - acc: 0.7878 - val_loss: 1.3488 - val_acc: 0.6265\n",
            "Epoch 3/10\n",
            "86/86 [==============================] - 18s 212ms/step - loss: 0.5992 - acc: 0.7922 - val_loss: 1.1377 - val_acc: 0.6623\n",
            "Epoch 4/10\n",
            "86/86 [==============================] - 18s 214ms/step - loss: 0.5973 - acc: 0.7984 - val_loss: 1.2478 - val_acc: 0.6543\n",
            "Epoch 5/10\n",
            "86/86 [==============================] - 18s 210ms/step - loss: 0.5943 - acc: 0.7910 - val_loss: 1.4133 - val_acc: 0.6357\n"
          ],
          "name": "stdout"
        }
      ]
    },
    {
      "cell_type": "code",
      "metadata": {
        "colab": {
          "base_uri": "https://localhost:8080/",
          "height": 573
        },
        "id": "8oTXq-N3tvv_",
        "outputId": "f19b0d23-60f9-4d39-fc8b-0533114faeb8"
      },
      "source": [
        "import matplotlib.pyplot as plt\n",
        "plt.plot(history.history['acc'])\n",
        "plt.plot(history.history['val_acc'])\n",
        "plt.title('Model accuracy')\n",
        "plt.ylabel('Accuracy')\n",
        "plt.xlabel('Epoch')\n",
        "plt.legend(['Train', 'Test'], loc='upper left')\n",
        "plt.show()\n",
        "\n",
        "plt.plot(history.history['loss'])\n",
        "plt.plot(history.history['val_loss'])\n",
        "plt.title('Model loss')\n",
        "plt.ylabel('Loss')\n",
        "plt.xlabel('Epoch')\n",
        "plt.legend(['Train', 'Test'], loc='upper left')\n",
        "plt.show()"
      ],
      "execution_count": 16,
      "outputs": [
        {
          "output_type": "display_data",
          "data": {
            "image/png": "[encoded data removed]",
            "text/plain": [
              "<Figure size 432x288 with 1 Axes>"
            ]
          },
          "metadata": {
            "tags": [],
            "needs_background": "light"
          }
        },
        {
          "output_type": "display_data",
          "data": {
            "image/png": "[encoded data removed]",
            "text/plain": [
              "<Figure size 432x288 with 1 Axes>"
            ]
          },
          "metadata": {
            "tags": [],
            "needs_background": "light"
          }
        }
      ]
    },
    {
      "cell_type": "code",
      "metadata": {
        "id": "yNeBOjW_tv46"
      },
      "source": [
        "from tensorflow.keras.models import load_model\n",
        "\n",
        "model.save('/content/drive/My Drive/model_facial.h5')"
      ],
      "execution_count": 17,
      "outputs": []
    },
    {
      "cell_type": "code",
      "metadata": {
        "id": "vOZE2kswtv-q"
      },
      "source": [
        ""
      ],
      "execution_count": null,
      "outputs": []
    }
  ]
}